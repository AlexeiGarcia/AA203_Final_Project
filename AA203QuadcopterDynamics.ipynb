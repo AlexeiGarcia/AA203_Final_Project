{
  "cells": [
    {
      "cell_type": "code",
      "execution_count": null,
      "metadata": {
        "id": "58xSyrMmYl0q"
      },
      "outputs": [],
      "source": [
        "# Python Packages\n",
        "import numpy as np\n",
        "import sympy as sp\n",
        "import random\n",
        "from scipy.stats import multivariate_normal\n",
        "import matplotlib.pyplot as plt\n",
        "\n",
        "# unloaded 2D quadrotor object \n",
        "class PlanarQuadrotor:\n",
        "    def __init__(self):\n",
        "        dt = 0.01         # Simulation time step - sec\n",
        "\n",
        "        # Quadrotor parameters\n",
        "        self.m_Q = 2.     # quadrotor mass (kg)\n",
        "        self.m_p = 0.5\n",
        "        self.Iyy = 0.01   # moment of inertia about the out-of-plane axis (kg * m**2)\n",
        "        self.d = 0.25     # length from center of mass to propellers (m)\n",
        "        self.g = 9.81     # acceleration due to gravity [m/s^2]\n",
        "        \n",
        "        # Control constraints\n",
        "        self.max_thrust_per_prop = 0.75 * self.m_Q * self.g  # total thrust-to-weight ratio = 1.5\n",
        "        self.min_thrust_per_prop = 0.\n",
        "\n",
        "def LoadedQuadEOM(s, u):\n",
        "    # List of states- hello\n",
        "    # 0 - x\n",
        "    # 1 - z nice to meet you\n",
        "    # 2 - theta\n",
        "    # 3 - phi\n",
        "    # 4 - xdot\n",
        "    # 5 - zdot\n",
        "    # 6 - thetadot\n",
        "    # 7 - phidot\n",
        "\n",
        "    # control input is the left and right propeller thrusts\n",
        "\n",
        "    # Define planar quadrotor object\n",
        "    quad = UnloadedPlanarQuadrotor\n",
        "    m_Q, m_p, I_yy, d, g, = quad.m_Q, quad.m_p, quad.Iyy, quad.d, quad.g\n",
        "    m_tot = m_Q + m_p\n",
        "\n",
        "    x, z, theta, phi = s[0], s[1], s[2], s[3]\n",
        "    xdot, zdot, thetadot, phidot = s[4], s[5], s[6], s[7]\n",
        "    T1, T2 = u\n",
        "    C_d = 2\n",
        "\n",
        "    sdot[0] = xdot\n",
        "    sdot[1] = zdot\n",
        "    sdot[2] = thetadot\n",
        "    sdot[3] = phidot\n",
        "    sdot[4] = (T1+T2) * np.sin(theta) * (m_Q + m_p * (np.cos(phi)) ** 2) / (m_Q * m_tot) + (T1+T2) * np.cos(theta) * (m_p * np.sin(phi) * np.cos(phi)) / (m_Q * m_tot) + m_p * l * (phidot) ** 2 * np.sin(phi) / m_tot\n",
        "    sdot[5] = (T1+T2) * np.cos(theta) * (m_Q + m_p * (np.sin(phi)) ** 2) / (m_Q * m_tot) + (T1+T2) * np.sin(theta) * (m_p * np.sin(phi) * np.cos(phi)) / (m_Q * m_tot) - m_p * l * (phidot) ** 2 * np.cos(phi) / m_tot - g\n",
        "    sdot[6] = d*(T1-T2) / I_yy - C_d*(thetadot - phidot)\n",
        "    sdot[7] = -(T1+T2) * np.sin(phi - theta) / (m_Q * l) - C_d*(phidot - thetadot)\n",
        "\n",
        "    return sdot\n",
        "\n"
      ]
    }
  ],
  "metadata": {
    "colab": {
      "collapsed_sections": [],
      "name": "AA203QuadcopterDynamics.ipynb",
      "provenance": []
    },
    "kernelspec": {
      "display_name": "Python 3",
      "name": "python3"
    },
    "language_info": {
      "name": "python"
    }
  },
  "nbformat": 4,
  "nbformat_minor": 0
}
